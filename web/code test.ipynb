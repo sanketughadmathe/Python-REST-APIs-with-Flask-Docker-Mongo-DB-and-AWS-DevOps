{
 "cells": [
  {
   "cell_type": "code",
   "execution_count": 9,
   "metadata": {},
   "outputs": [],
   "source": [
    "# Importing flask module\n",
    "# An object of Flask class is our WSGI application.\n",
    "from flask import Flask, jsonify, request\n",
    "from flask_restful import Api, Resource\n",
    "from pymongo import MongoClient\n",
    "import bcrypt\n",
    "\n",
    "# Flask constructor takes the name of\n",
    "# current module (__name__) as argument.\n",
    "app = Flask(__name__)\n",
    "api = Api(app)\n",
    "\n",
    "# client = MongoClient(\"mogodb://db:27017\")\n",
    "client = MongoClient(\"mongodb://localhost:27017\")\n",
    "db = client.SentencesDatabase\n",
    "users = db[\"Users\"]"
   ]
  },
  {
   "cell_type": "code",
   "execution_count": 10,
   "metadata": {},
   "outputs": [
    {
     "data": {
      "text/plain": [
       "Collection(Database(MongoClient(host=['localhost:27017'], document_class=dict, tz_aware=False, connect=True), 'SentencesDatabase'), 'Users')"
      ]
     },
     "execution_count": 10,
     "metadata": {},
     "output_type": "execute_result"
    }
   ],
   "source": [
    "users"
   ]
  },
  {
   "cell_type": "code",
   "execution_count": 11,
   "metadata": {},
   "outputs": [],
   "source": [
    "import json"
   ]
  },
  {
   "cell_type": "code",
   "execution_count": 13,
   "metadata": {},
   "outputs": [
    {
     "data": {
      "text/plain": [
       "<pymongo.results.InsertOneResult at 0x2215d846a10>"
      ]
     },
     "execution_count": 13,
     "metadata": {},
     "output_type": "execute_result"
    }
   ],
   "source": [
    "# Inserting the data into the database\n",
    "record = {\n",
    "    \"Username\": \"Sanket\",\n",
    "    \"Password\": \"123qwe\"\n",
    "}\n",
    "\n",
    "dumpVar = json.dumps(record)\n",
    "loadVar = json.loads(dumpVar)\n",
    "\n",
    "users.insert_one(loadVar)\n",
    "# retJson = {\n",
    "#     \"Status\": 200,\n",
    "#     \"message\": \"You have successfully signed up for API\"\n",
    "# }"
   ]
  },
  {
   "cell_type": "code",
   "execution_count": 14,
   "metadata": {},
   "outputs": [],
   "source": [
    "def hash_password(password):\n",
    "    pwd_bytes = password.encode(\"utf-8\")\n",
    "    salt = bcrypt.gensalt()\n",
    "    return bcrypt.hashpw(pwd_bytes, salt)"
   ]
  },
  {
   "cell_type": "code",
   "execution_count": 42,
   "metadata": {},
   "outputs": [
    {
     "data": {
      "text/plain": [
       "<pymongo.results.InsertOneResult at 0x2215e453af0>"
      ]
     },
     "execution_count": 42,
     "metadata": {},
     "output_type": "execute_result"
    }
   ],
   "source": [
    "\n",
    "# Generate a hashed password\n",
    "password = 'zxcvbnm'\n",
    "hashed_password = bcrypt.hashpw(password.encode('utf-8'), bcrypt.gensalt())\n",
    "\n",
    "# Create a document\n",
    "document = {\n",
    "    \"Username\": \"qmwneb\",\n",
    "    \"Password\": hashed_password\n",
    "    }\n",
    "\n",
    "# Insert the document into the collection\n",
    "users.insert_one(document)"
   ]
  },
  {
   "cell_type": "code",
   "execution_count": 29,
   "metadata": {},
   "outputs": [],
   "source": [
    "def verifyPw(userName, password):\n",
    "    # bcrypt.checkpw(pwd_bytes, hashedPassword)\n",
    "\n",
    "\n",
    "\n",
    "    hashedPassword = users.find_one({\"Username\": userName})[\"Password\"]\n",
    "    pwd_bytes = password.encode(\"utf-8\")\n",
    "    return bcrypt.checkpw(pwd_bytes, hashedPassword)\n",
    "    "
   ]
  },
  {
   "cell_type": "code",
   "execution_count": 43,
   "metadata": {},
   "outputs": [],
   "source": [
    "userName = \"qmwneb\"\n",
    "password = \"zxcvbnm\"\n",
    "hashedPassword = users.find_one({\"Username\": userName})[\"Password\"]"
   ]
  },
  {
   "cell_type": "code",
   "execution_count": 45,
   "metadata": {},
   "outputs": [
    {
     "data": {
      "text/plain": [
       "b'$2b$12$Q7fJHDNwz/MW9PzdQiBnFeKUt60EkQcTZOFjcXedtMagbrV062f8e'"
      ]
     },
     "execution_count": 45,
     "metadata": {},
     "output_type": "execute_result"
    }
   ],
   "source": [
    "hashed_password"
   ]
  },
  {
   "cell_type": "code",
   "execution_count": 44,
   "metadata": {},
   "outputs": [
    {
     "data": {
      "text/plain": [
       "b'$2b$12$Q7fJHDNwz/MW9PzdQiBnFeKUt60EkQcTZOFjcXedtMagbrV062f8e'"
      ]
     },
     "execution_count": 44,
     "metadata": {},
     "output_type": "execute_result"
    }
   ],
   "source": [
    "hashedPassword"
   ]
  },
  {
   "cell_type": "code",
   "execution_count": 46,
   "metadata": {},
   "outputs": [
    {
     "data": {
      "text/plain": [
       "True"
      ]
     },
     "execution_count": 46,
     "metadata": {},
     "output_type": "execute_result"
    }
   ],
   "source": [
    "verifyPw(userName, password)"
   ]
  },
  {
   "cell_type": "code",
   "execution_count": 48,
   "metadata": {},
   "outputs": [
    {
     "data": {
      "text/plain": [
       "b'$2b$12$Q7fJHDNwz/MW9PzdQiBnFeKUt60EkQcTZOFjcXedtMagbrV062f8e'"
      ]
     },
     "execution_count": 48,
     "metadata": {},
     "output_type": "execute_result"
    }
   ],
   "source": [
    "hashedPassword.decode('utf-8').encode('utf-8')"
   ]
  },
  {
   "cell_type": "code",
   "execution_count": 49,
   "metadata": {},
   "outputs": [
    {
     "data": {
      "text/plain": [
       "b'$2b$12$Q7fJHDNwz/MW9PzdQiBnFeKUt60EkQcTZOFjcXedtMagbrV062f8e'"
      ]
     },
     "execution_count": 49,
     "metadata": {},
     "output_type": "execute_result"
    }
   ],
   "source": [
    "hashedPassword"
   ]
  },
  {
   "cell_type": "code",
   "execution_count": 52,
   "metadata": {},
   "outputs": [
    {
     "data": {
      "text/plain": [
       "1"
      ]
     },
     "execution_count": 52,
     "metadata": {},
     "output_type": "execute_result"
    }
   ],
   "source": [
    "5%2"
   ]
  },
  {
   "cell_type": "code",
   "execution_count": 53,
   "metadata": {},
   "outputs": [],
   "source": [
    "numTokens = users.find_one({\"Username\": \"mam\"})[\"Tokens\"]"
   ]
  },
  {
   "cell_type": "code",
   "execution_count": 57,
   "metadata": {},
   "outputs": [
    {
     "data": {
      "text/plain": [
       "int"
      ]
     },
     "execution_count": 57,
     "metadata": {},
     "output_type": "execute_result"
    }
   ],
   "source": [
    "type(numTokens)"
   ]
  },
  {
   "cell_type": "code",
   "execution_count": null,
   "metadata": {},
   "outputs": [],
   "source": []
  }
 ],
 "metadata": {
  "kernelspec": {
   "display_name": "myDjangoEnv",
   "language": "python",
   "name": "python3"
  },
  "language_info": {
   "codemirror_mode": {
    "name": "ipython",
    "version": 3
   },
   "file_extension": ".py",
   "mimetype": "text/x-python",
   "name": "python",
   "nbconvert_exporter": "python",
   "pygments_lexer": "ipython3",
   "version": "3.10.8"
  },
  "orig_nbformat": 4
 },
 "nbformat": 4,
 "nbformat_minor": 2
}
